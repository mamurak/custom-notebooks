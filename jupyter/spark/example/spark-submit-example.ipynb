{
 "cells": [
  {
   "cell_type": "markdown",
   "id": "924dd035-8162-41cb-b6ac-1977756479bc",
   "metadata": {},
   "source": [
    "#### Simple spark-submit example (can be launched from terminal)"
   ]
  },
  {
   "cell_type": "code",
   "execution_count": null,
   "id": "b31eb467-b339-4a3b-95db-c3d49feaf5b3",
   "metadata": {},
   "outputs": [],
   "source": [
    "%%sh\n",
    "spark-submit \\\n",
    "  --master k8s://$KUBERNETES_SERVICE_HOST:443 \\\n",
    "  --deploy-mode client \\\n",
    "  --conf spark.kubernetes.executor.container.image=quay.io/opendatahub-contrib/spark:s3.3.1-h3.3.4_v0.1.1 \\\n",
    "  --conf spark.kubernetes.namespace=rhods-notebooks \\\n",
    "  --conf spark.driver.host=$(hostname -i) \\\n",
    "  --num-executors 3 \\\n",
    "  --executor-memory 512m \\\n",
    "  --executor-cores 1 \\\n",
    "  --class org.apache.spark.examples.SparkPi \\\n",
    "  /opt/app-root/spark-3.3.1/examples/jars/spark-examples*.jar 10"
   ]
  }
 ],
 "metadata": {
  "kernelspec": {
   "display_name": "Python 3.9.10",
   "language": "python",
   "name": "python3"
  },
  "language_info": {
   "codemirror_mode": {
    "name": "ipython",
    "version": 3
   },
   "file_extension": ".py",
   "mimetype": "text/x-python",
   "name": "python",
   "nbconvert_exporter": "python",
   "pygments_lexer": "ipython3",
   "version": "3.9.10"
  }
 },
 "nbformat": 4,
 "nbformat_minor": 5
}
