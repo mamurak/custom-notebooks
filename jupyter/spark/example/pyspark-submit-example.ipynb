{
 "cells": [
  {
   "cell_type": "markdown",
   "id": "fd4144d6-58cd-46af-abba-8d6e6e62a7f6",
   "metadata": {},
   "source": [
    "#### We must first initialize some variables for the current environment"
   ]
  },
  {
   "cell_type": "code",
   "execution_count": null,
   "id": "d5eba711-079b-4fcd-8e6a-4b82557a34d1",
   "metadata": {},
   "outputs": [],
   "source": [
    "import os\n",
    "import socket\n",
    "hostname=socket.gethostname()\n",
    "IPAddr=socket.gethostbyname(hostname)\n",
    "\n",
    "with open('/var/run/secrets/kubernetes.io/serviceaccount/namespace', 'r') as f:\n",
    "    current_namespace = f.readline()"
   ]
  },
  {
   "cell_type": "markdown",
   "id": "be8cf6b2-4a71-4668-801a-19204a370e78",
   "metadata": {},
   "source": [
    "#### We can then launch a Spark job directly from the notebook"
   ]
  },
  {
   "cell_type": "code",
   "execution_count": null,
   "id": "9b2882d4-0e37-4834-81e0-56ff5421ad14",
   "metadata": {},
   "outputs": [],
   "source": [
    "from pyspark import SparkContext, SparkConf\n",
    "from pyspark.sql import SparkSession\n",
    "\n",
    "# Create Spark config for our Kubernetes based cluster manager\n",
    "sparkConf = SparkConf()\n",
    "sparkConf.setMaster(\"k8s://https://\" + os.environ[\"KUBERNETES_SERVICE_HOST\"] + \":443\")\n",
    "sparkConf.set(\"spark.submit.deployMode\",\"client\")\n",
    "sparkConf.set(\"spark.kubernetes.container.image\", \"quay.io/opendatahub-contrib/pyspark:s3.3.1-h3.3.4_v0.1.1\")\n",
    "sparkConf.set(\"spark.kubernetes.namespace\", current_namespace)\n",
    "sparkConf.set(\"spark.driver.host\", IPAddr)\n",
    "sparkConf.set(\"spark.executor.instances\", \"3\")\n",
    "sparkConf.set(\"spark.executor.memory\", \"512m\")\n",
    "sparkConf.set(\"spark.executor.cores\", \"1\")\n",
    "sparkConf.set(\"spark.kubernetes.pyspark.pythonVersion\", \"3\")\n",
    "# Initialize our Spark cluster, this will actually\n",
    "# generate the worker nodes.\n",
    "spark = SparkSession.builder.config(conf=sparkConf).getOrCreate()\n",
    "sc = spark.sparkContext"
   ]
  },
  {
   "cell_type": "markdown",
   "id": "206476f5-7fb2-4be1-8da9-53f00619f57a",
   "metadata": {},
   "source": [
    "#### You can now launch jobs directly from your notebook"
   ]
  },
  {
   "cell_type": "code",
   "execution_count": null,
   "id": "d50346bb-ac3f-4e79-9b5f-e20253bfc678",
   "metadata": {},
   "outputs": [],
   "source": [
    "from random import random\n",
    "from operator import add\n",
    "\n",
    "partitions = 7\n",
    "n = 10000000 * partitions\n",
    "def f(_):\n",
    "    x = random() * 2 - 1\n",
    "    y = random() * 2 - 1\n",
    "    \n",
    "    return 1 if x ** 2 + y ** 2 <= 1 else 0\n",
    "count = sc.parallelize(range(1, n + 1), partitions).map(f).reduce(add)\n",
    "print(\"Pi is roughly %f\" % (4.0 * count / n))"
   ]
  },
  {
   "cell_type": "markdown",
   "id": "1a32946f-2e88-429b-a5f1-b5f38ee5ec50",
   "metadata": {},
   "source": [
    "#### Don't forget to shut down your cluster!"
   ]
  },
  {
   "cell_type": "code",
   "execution_count": null,
   "id": "2a5f9cdc-f02e-4745-945c-af70375549a5",
   "metadata": {},
   "outputs": [],
   "source": [
    "sc.stop()"
   ]
  }
 ],
 "metadata": {
  "kernelspec": {
   "display_name": "Python 3.9.10",
   "language": "python",
   "name": "python3"
  },
  "language_info": {
   "codemirror_mode": {
    "name": "ipython",
    "version": 3
   },
   "file_extension": ".py",
   "mimetype": "text/x-python",
   "name": "python",
   "nbconvert_exporter": "python",
   "pygments_lexer": "ipython3",
   "version": "3.9.10"
  }
 },
 "nbformat": 4,
 "nbformat_minor": 5
}
